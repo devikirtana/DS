{
 "cells": [
  {
   "cell_type": "markdown",
   "id": "c0a31d51-5753-4283-914e-b9409d6bb4c4",
   "metadata": {},
   "source": [
    "# Qn 1"
   ]
  },
  {
   "cell_type": "code",
   "execution_count": 2,
   "id": "39147609-4368-42d3-9533-99516e541980",
   "metadata": {},
   "outputs": [],
   "source": [
    "class vehicle:\n",
    "    def __init__(self,name_of_vehicle,max_speed,average_of_vehicle):\n",
    "        self.name_of_vehicle=name_of_vehicle\n",
    "        self.max_speed=max_speed\n",
    "        self.average_of_vehicle=average_of_vehicle\n",
    "        \n",
    "    def return_details(self):\n",
    "        return  self.name_of_vehicle,self.max_speed,self.average_of_vehicle\n",
    "        \n",
    "        \n",
    "        \n",
    "    "
   ]
  },
  {
   "cell_type": "code",
   "execution_count": 3,
   "id": "104e1dd0-8951-4277-95fc-4298a2f93f57",
   "metadata": {},
   "outputs": [
    {
     "data": {
      "text/plain": [
       "('Activa', 120, 80)"
      ]
     },
     "execution_count": 3,
     "metadata": {},
     "output_type": "execute_result"
    }
   ],
   "source": [
    "v_obj=vehicle(\"Activa\",120,80)\n",
    "v_obj.return_details()"
   ]
  },
  {
   "cell_type": "code",
   "execution_count": 5,
   "id": "8e7ccea7-1875-47d7-a0ef-8b0fc8bae601",
   "metadata": {},
   "outputs": [
    {
     "data": {
      "text/plain": [
       "120"
      ]
     },
     "execution_count": 5,
     "metadata": {},
     "output_type": "execute_result"
    }
   ],
   "source": [
    "v_obj.max_speed"
   ]
  },
  {
   "cell_type": "markdown",
   "id": "f22cfb5c-4bb2-45a7-bb0a-4f9b301d48f7",
   "metadata": {},
   "source": [
    "# Qn 2"
   ]
  },
  {
   "cell_type": "code",
   "execution_count": 43,
   "id": "966dee7d-ae1d-48c2-99c5-8868d0e6271d",
   "metadata": {},
   "outputs": [],
   "source": [
    "class vehicle:\n",
    "    def __init__(self,name_of_vehicle,max_speed,average_of_vehicle):\n",
    "        self.name_of_vehicle=name_of_vehicle\n",
    "        self.max_speed=max_speed\n",
    "        self.average_of_vehicle=average_of_vehicle\n",
    "        \n",
    "    def return_details(self):\n",
    "        return  self.name_of_vehicle,self.max_speed,self.average_of_vehicle"
   ]
  },
  {
   "cell_type": "code",
   "execution_count": 47,
   "id": "5586ddcc-e27c-433b-889f-f398b5fbcd60",
   "metadata": {},
   "outputs": [],
   "source": [
    "class child(vehicle):\n",
    "    def test_child(self,seating_capacity):\n",
    "        self.seating_capacity=seating_capacity\n",
    "        return self.seating_capacity"
   ]
  },
  {
   "cell_type": "code",
   "execution_count": 51,
   "id": "a9b03079-b326-459e-b210-03597cdde822",
   "metadata": {},
   "outputs": [
    {
     "ename": "TypeError",
     "evalue": "vehicle.__init__() missing 3 required positional arguments: 'name_of_vehicle', 'max_speed', and 'average_of_vehicle'",
     "output_type": "error",
     "traceback": [
      "\u001b[0;31m---------------------------------------------------------------------------\u001b[0m",
      "\u001b[0;31mTypeError\u001b[0m                                 Traceback (most recent call last)",
      "Cell \u001b[0;32mIn[51], line 1\u001b[0m\n\u001b[0;32m----> 1\u001b[0m v_obj\u001b[38;5;241m=\u001b[39m\u001b[43mchild\u001b[49m\u001b[43m(\u001b[49m\u001b[43m)\u001b[49m\n\u001b[1;32m      2\u001b[0m v_obj\u001b[38;5;241m.\u001b[39mreturn_details(\u001b[38;5;124m\"\u001b[39m\u001b[38;5;124mactiva\u001b[39m\u001b[38;5;124m\"\u001b[39m,\u001b[38;5;241m120\u001b[39m,\u001b[38;5;241m80\u001b[39m)\n",
      "\u001b[0;31mTypeError\u001b[0m: vehicle.__init__() missing 3 required positional arguments: 'name_of_vehicle', 'max_speed', and 'average_of_vehicle'"
     ]
    }
   ],
   "source": [
    "v_obj=child()\n",
    "v_obj.return_details(\"activa\",120,80)"
   ]
  },
  {
   "cell_type": "markdown",
   "id": "3d0e6c6f-ebf5-410c-a557-13288ebc53f7",
   "metadata": {},
   "source": [
    "# Qn 3"
   ]
  },
  {
   "cell_type": "markdown",
   "id": "f4097f7e-b742-4064-a1bd-324d5fb1428b",
   "metadata": {},
   "source": [
    "### Multiple inheritance is two or more class which is inherited in one class"
   ]
  },
  {
   "cell_type": "code",
   "execution_count": 20,
   "id": "509b4c1b-3bd8-48a5-9220-55a3e65ecec0",
   "metadata": {},
   "outputs": [],
   "source": [
    "class class1:\n",
    "    def test_class1(self):\n",
    "        print(\"this is my sample program\")\n",
    "    "
   ]
  },
  {
   "cell_type": "code",
   "execution_count": 21,
   "id": "e94baa6b-8ed5-4f30-b5a7-5dff4f65ddda",
   "metadata": {},
   "outputs": [],
   "source": [
    "class class2:\n",
    "    def test_class2(self):\n",
    "        print(\"this is my 2nd program\")"
   ]
  },
  {
   "cell_type": "code",
   "execution_count": 22,
   "id": "b9ef16b7-8959-4fb6-ad41-a01442b73b77",
   "metadata": {},
   "outputs": [],
   "source": [
    "class class3(class1,class2):\n",
    "    pass"
   ]
  },
  {
   "cell_type": "code",
   "execution_count": 24,
   "id": "bffa3959-0063-4e19-a608-705101725e83",
   "metadata": {},
   "outputs": [
    {
     "name": "stdout",
     "output_type": "stream",
     "text": [
      "this is my 2nd program\n"
     ]
    }
   ],
   "source": [
    "dk=class3()\n",
    "dk.test_class2()"
   ]
  },
  {
   "cell_type": "code",
   "execution_count": 25,
   "id": "66445067-7cdc-4801-8ce5-831d841584d1",
   "metadata": {},
   "outputs": [
    {
     "name": "stdout",
     "output_type": "stream",
     "text": [
      "this is my sample program\n"
     ]
    }
   ],
   "source": [
    "dk.test_class1()"
   ]
  },
  {
   "cell_type": "markdown",
   "id": "f4e57413-decb-4098-83a4-c684b72d0d48",
   "metadata": {},
   "source": [
    "# Qn 4"
   ]
  },
  {
   "cell_type": "markdown",
   "id": "a3d71288-2c9c-43ee-9c82-8dffa0008fd0",
   "metadata": {},
   "source": [
    "\"\"\"  Getter and setter are used to add validation logic around getting and setting a value.\n",
    "    It is also used to avoid direct access of a clss field ie.private variables cant be accessed  directly \"\"\""
   ]
  },
  {
   "cell_type": "code",
   "execution_count": 40,
   "id": "9d084df4-c9ab-46c4-9aa7-6a554c2e7024",
   "metadata": {},
   "outputs": [],
   "source": [
    "class test:\n",
    "    def __init__(self,age=0):\n",
    "        self.age=age\n",
    "        \n",
    "    def get_age(self):\n",
    "        return self.age\n",
    "    \n",
    "    def set_age(self,x):\n",
    "        self.age = x"
   ]
  },
  {
   "cell_type": "code",
   "execution_count": 41,
   "id": "677c1f04-931b-465f-abe0-f5c0ac9bcb21",
   "metadata": {},
   "outputs": [],
   "source": [
    "raj=test()\n",
    "raj.set_age(21)"
   ]
  },
  {
   "cell_type": "code",
   "execution_count": 42,
   "id": "4a296944-0917-4d72-8a0b-ea2c105cc88c",
   "metadata": {},
   "outputs": [
    {
     "data": {
      "text/plain": [
       "21"
      ]
     },
     "execution_count": 42,
     "metadata": {},
     "output_type": "execute_result"
    }
   ],
   "source": [
    "raj.get_age()"
   ]
  },
  {
   "cell_type": "markdown",
   "id": "1f138f25-0d63-42f8-8133-81528ea576d3",
   "metadata": {},
   "source": [
    "# Qn 5"
   ]
  },
  {
   "cell_type": "markdown",
   "id": "b4613da3-bc11-489e-b8bd-9541480b31bb",
   "metadata": {},
   "source": [
    "\"\"\" Method overriding in python is when you have two methods with the same name that each can perform different tasks\"\"\""
   ]
  },
  {
   "cell_type": "code",
   "execution_count": null,
   "id": "0bf5cf5c-7d38-4e02-9118-749db676b687",
   "metadata": {},
   "outputs": [],
   "source": []
  }
 ],
 "metadata": {
  "kernelspec": {
   "display_name": "Python 3 (ipykernel)",
   "language": "python",
   "name": "python3"
  },
  "language_info": {
   "codemirror_mode": {
    "name": "ipython",
    "version": 3
   },
   "file_extension": ".py",
   "mimetype": "text/x-python",
   "name": "python",
   "nbconvert_exporter": "python",
   "pygments_lexer": "ipython3",
   "version": "3.10.8"
  }
 },
 "nbformat": 4,
 "nbformat_minor": 5
}
